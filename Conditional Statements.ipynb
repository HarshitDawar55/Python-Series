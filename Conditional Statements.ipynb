{
 "cells": [
  {
   "cell_type": "markdown",
   "metadata": {},
   "source": [
    "# Conditional Logic"
   ]
  },
  {
   "cell_type": "code",
   "execution_count": 9,
   "metadata": {},
   "outputs": [],
   "source": [
    "x = 6"
   ]
  },
  {
   "cell_type": "code",
   "execution_count": 10,
   "metadata": {},
   "outputs": [
    {
     "name": "stdout",
     "output_type": "stream",
     "text": [
      " X is not less than 5\n"
     ]
    }
   ],
   "source": [
    "if x < 5:\n",
    "    print(\"X is less than 5\")\n",
    "else:\n",
    "    print(\" X is not less than 5\")"
   ]
  },
  {
   "cell_type": "code",
   "execution_count": 13,
   "metadata": {},
   "outputs": [
    {
     "name": "stdout",
     "output_type": "stream",
     "text": [
      "Enter your salary10000\n",
      "10000\n"
     ]
    }
   ],
   "source": [
    "print(\"Enter your salary\")\n",
    "ch = input(\"Enter your salary\")\n",
    "print(ch)"
   ]
  },
  {
   "cell_type": "code",
   "execution_count": 1,
   "metadata": {},
   "outputs": [
    {
     "name": "stdout",
     "output_type": "stream",
     "text": [
      "Hello\n"
     ]
    }
   ],
   "source": [
    "print(\"Hello\")"
   ]
  },
  {
   "cell_type": "code",
   "execution_count": 7,
   "metadata": {},
   "outputs": [
    {
     "name": "stdout",
     "output_type": "stream",
     "text": [
      "Enter your salary \n",
      "50000\n",
      "<class 'int'>\n",
      "You are earning an average salary! :) Good luck for your future\n"
     ]
    }
   ],
   "source": [
    "ch = int(input(\"Enter your salary \\n\"))\n",
    "print(type(ch))\n",
    "\n",
    "if ch <= 50000:\n",
    "    print(\"You are earning an average salary! :) Good luck for your future\")\n",
    "else:\n",
    "    print(\"You are earning an amazing salary! :) Keep it Up!\")"
   ]
  },
  {
   "cell_type": "markdown",
   "metadata": {},
   "source": [
    "## If elif else Ladder"
   ]
  },
  {
   "cell_type": "code",
   "execution_count": 16,
   "metadata": {},
   "outputs": [],
   "source": [
    "x = 3"
   ]
  },
  {
   "cell_type": "code",
   "execution_count": 17,
   "metadata": {},
   "outputs": [
    {
     "name": "stdout",
     "output_type": "stream",
     "text": [
      "x < 5\n"
     ]
    }
   ],
   "source": [
    "if x < 5:\n",
    "    print(\"x < 5\")\n",
    "\n",
    "elif x < 15:\n",
    "    print(\"x < 15\")\n",
    "    \n",
    "else:\n",
    "    print(\"I don't know!\")"
   ]
  },
  {
   "cell_type": "code",
   "execution_count": 18,
   "metadata": {},
   "outputs": [
    {
     "name": "stdout",
     "output_type": "stream",
     "text": [
      "x < 5\n",
      "x < 15\n"
     ]
    }
   ],
   "source": [
    "if x < 5:\n",
    "    print(\"x < 5\")\n",
    "    \n",
    "# Treat the below part as independent,\n",
    "# no connection between above if block & the below if block\n",
    "\n",
    "if x < 15:\n",
    "    print(\"x < 15\")\n",
    "    \n",
    "else:\n",
    "    print(\"I don't know!\")"
   ]
  },
  {
   "cell_type": "markdown",
   "metadata": {},
   "source": [
    "### Finding the largest number among the 3 numbers"
   ]
  },
  {
   "cell_type": "code",
   "execution_count": 31,
   "metadata": {},
   "outputs": [],
   "source": [
    "x, y, z = 25, 10, 40"
   ]
  },
  {
   "cell_type": "code",
   "execution_count": 32,
   "metadata": {},
   "outputs": [
    {
     "name": "stdout",
     "output_type": "stream",
     "text": [
      "25 10 40\n"
     ]
    }
   ],
   "source": [
    "print(x, y, z)"
   ]
  },
  {
   "cell_type": "code",
   "execution_count": 36,
   "metadata": {},
   "outputs": [],
   "source": [
    "## Drive Car\n",
    "if x > y and x > z:\n",
    "    print(\"x is the greatest number\")\n",
    "## Drive MotorBike\n",
    "if y > x and y > z:\n",
    "    print(\"y is the greatest number\")\n",
    "\n",
    "## Drive Cycle    \n",
    "if z > x and z > y:\n",
    "    print(\"z is the greatest number\")"
   ]
  },
  {
   "cell_type": "code",
   "execution_count": 37,
   "metadata": {},
   "outputs": [
    {
     "name": "stdout",
     "output_type": "stream",
     "text": [
      "z is the greatest number\n"
     ]
    }
   ],
   "source": [
    "## Drive Car\n",
    "if x > y and x > z:\n",
    "    print(\"x is the greatest number\")\n",
    "## Drive MotorBike\n",
    "elif y > x and y > z:\n",
    "    print(\"y is the greatest number\")\n",
    "## Drive anything\n",
    "else:\n",
    "    print(\"z is the greatest number\")"
   ]
  },
  {
   "cell_type": "code",
   "execution_count": 35,
   "metadata": {},
   "outputs": [],
   "source": [
    "x, y, z = 25, 35, 35"
   ]
  },
  {
   "cell_type": "code",
   "execution_count": null,
   "metadata": {},
   "outputs": [],
   "source": []
  }
 ],
 "metadata": {
  "kernelspec": {
   "display_name": "Python 3",
   "language": "python",
   "name": "python3"
  },
  "language_info": {
   "codemirror_mode": {
    "name": "ipython",
    "version": 3
   },
   "file_extension": ".py",
   "mimetype": "text/x-python",
   "name": "python",
   "nbconvert_exporter": "python",
   "pygments_lexer": "ipython3",
   "version": "3.7.9"
  }
 },
 "nbformat": 4,
 "nbformat_minor": 4
}
